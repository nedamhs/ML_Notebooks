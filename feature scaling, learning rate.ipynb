{
 "cells": [
  {
   "cell_type": "code",
   "execution_count": 37,
   "id": "5b554a20-058f-4e0f-a548-6fae2113c588",
   "metadata": {},
   "outputs": [],
   "source": [
    "import copy, math\n",
    "import numpy as np\n",
    "import matplotlib.pyplot as plt\n",
    "np.set_printoptions(precision=2)"
   ]
  },
  {
   "cell_type": "code",
   "execution_count": 15,
   "id": "eeb23642-f746-4bc5-a321-bc770b49b2a0",
   "metadata": {},
   "outputs": [],
   "source": [
    "# load the dataset\n",
    "# n ; # of features\n",
    "# x_train contain : house size, # bedroom, # floors, age \n",
    "X_train = np.array([[2104, 5, 1, 45], \n",
    "                    [1416, 3, 2, 40], \n",
    "                    [852, 2, 1, 35]])\n",
    "\n",
    "# y_train contains : price \n",
    "y_train = np.array([460, 232, 178])\n",
    "\n",
    "X_features = ['size(sqft)','bedrooms','floors','age']"
   ]
  },
  {
   "cell_type": "code",
   "execution_count": 21,
   "id": "a374e6da-e993-4cfd-9a9a-ca3165c115c8",
   "metadata": {},
   "outputs": [
    {
     "data": {
      "image/png": "[encoded data removed]",
      "text/plain": [
       "<Figure size 1200x300 with 4 Axes>"
      ]
     },
     "metadata": {},
     "output_type": "display_data"
    }
   ],
   "source": [
    "fig,ax=plt.subplots(1, 4, figsize=(12, 3), sharey=True)\n",
    "for i in range(len(ax)):\n",
    "    ax[i].scatter(X_train[:,i],y_train)\n",
    "    ax[i].set_xlabel(X_features[i])\n",
    "ax[0].set_ylabel(\"Price (1000's)\")\n",
    "plt.show()"
   ]
  },
  {
   "cell_type": "code",
   "execution_count": 23,
   "id": "2f699104-3fb1-4cdd-8d16-3536b0d3994e",
   "metadata": {},
   "outputs": [],
   "source": [
    "def compute_cost(X, y, w, b): \n",
    "    \"\"\"\n",
    "    compute cost\n",
    "    Args:\n",
    "      X (ndarray (m,n)): Data, m examples with n features\n",
    "      y (ndarray (m,)) : target values\n",
    "      w (ndarray (n,)) : model parameters  \n",
    "      b (scalar)       : model parameter\n",
    "      \n",
    "    Returns:\n",
    "      cost (scalar): cost\n",
    "    \"\"\"\n",
    "    # size of first element \n",
    "    m = X.shape[0]\n",
    "    \n",
    "    cost = 0.0\n",
    "    \n",
    "    for i in range(m):   \n",
    "        \n",
    "        f_wb_i = np.dot(X[i], w) + b           #(n,)(n,) = scalar (see np.dot)\n",
    "        \n",
    "        cost += (f_wb_i - y[i])**2             #scalar\n",
    "        \n",
    "    cost = cost / (2 * m)                      #scalar    \n",
    "    return cost"
   ]
  },
  {
   "cell_type": "code",
   "execution_count": 45,
   "id": "1bb0bc35-6697-4f5d-a15d-f9d12ea6f072",
   "metadata": {},
   "outputs": [],
   "source": [
    "def compute_gradient(X, y, w, b): \n",
    "    \"\"\"\n",
    "    Computes the gradient for linear regression \n",
    "    Args:\n",
    "      X (ndarray (m,n)): Data, m examples with n features\n",
    "      y (ndarray (m,)) : target values\n",
    "      w (ndarray (n,)) : model parameters  \n",
    "      b (scalar)       : model parameter\n",
    "      \n",
    "    Returns:\n",
    "      dj_dw (ndarray (n,)): The gradient of the cost w.r.t. the parameters w. \n",
    "      dj_db (scalar):       The gradient of the cost w.r.t. the parameter b. \n",
    "    \"\"\"\n",
    "    m,n = X.shape           #(number of examples, number of features)\n",
    "    \n",
    "    dj_dw = np.zeros((n,))\n",
    "    dj_db = 0.\n",
    "\n",
    "    for i in range(m):                             \n",
    "        err = (np.dot(X[i], w) + b) - y[i]   \n",
    "        \n",
    "        for j in range(n):                         \n",
    "            dj_dw[j] += err * X[i, j] \n",
    "            \n",
    "        dj_db += err        \n",
    "        \n",
    "    dj_dw = dj_dw / m                                \n",
    "    dj_db = dj_db / m                                \n",
    "        \n",
    "    return dj_db, dj_dw"
   ]
  },
  {
   "cell_type": "code",
   "execution_count": 43,
   "id": "271a4746-249d-452d-ba03-6cabdc063085",
   "metadata": {},
   "outputs": [],
   "source": [
    "def gradient_descent(X, y, w_in, b_in, cost_function, gradient_function, alpha, num_iters): \n",
    "    \"\"\"\n",
    "    Performs batch gradient descent to learn w and b. Updates w and b by taking \n",
    "    num_iters gradient steps with learning rate alpha\n",
    "    \n",
    "    Args:\n",
    "      X (ndarray (m,n))   : Data, m examples with n features\n",
    "      y (ndarray (m,))    : target values\n",
    "      w_in (ndarray (n,)) : initial model parameters  \n",
    "      b_in (scalar)       : initial model parameter\n",
    "      cost_function       : function to compute cost\n",
    "      gradient_function   : function to compute the gradient\n",
    "      alpha (float)       : Learning rate\n",
    "      num_iters (int)     : number of iterations to run gradient descent\n",
    "      \n",
    "    Returns:\n",
    "      w (ndarray (n,)) : Updated values of parameters \n",
    "      b (scalar)       : Updated value of parameter \n",
    "      \"\"\"\n",
    "    \n",
    "    # An array to store cost J and w's at each iteration primarily for graphing later\n",
    "    J_history = []\n",
    "    \n",
    "    w = copy.deepcopy(w_in)  #avoid modifying global w within function\n",
    "    \n",
    "    b = b_in\n",
    "    \n",
    "    for i in range(num_iters):\n",
    "\n",
    "        # Calculate the gradient and update the parameters\n",
    "        dj_db,dj_dw = gradient_function(X, y, w, b)   ##None\n",
    "\n",
    "        # Update Parameters using w, b, alpha and gradient\n",
    "        w = w - alpha * dj_dw               ##None\n",
    "        b = b - alpha * dj_db               ##None\n",
    "      \n",
    "        # Save cost J at each iteration\n",
    "        if i<100000:      # prevent resource exhaustion \n",
    "            J_history.append( cost_function(X, y, w, b))\n",
    "\n",
    "        # Print cost every at intervals 10 times or as many iterations if < 10\n",
    "        if i% math.ceil(num_iters / 10) == 0:\n",
    "            print(f\"Iteration {i:4d}: Cost {J_history[-1]:8.2f}   \")\n",
    "        \n",
    "    return w, b, J_history #return final w,b and J history for graphing"
   ]
  },
  {
   "cell_type": "code",
   "execution_count": 112,
   "id": "2b643d58-9a19-457a-81d9-9fe6be892b71",
   "metadata": {},
   "outputs": [],
   "source": [
    "# #bias\n",
    "# b_init = 785.1811367994083\n",
    "\n",
    "# #weights\n",
    "w_init = np.array([ 0.39133535, 18.75376741, -53.36032453, -26.42131618])\n",
    "\n",
    "# initialize parameters\n",
    "\n",
    "# array of zeros w the same shape as w_init\n",
    "initial_w = np.zeros_like(w_init)\n",
    "initial_b = 0."
   ]
  },
  {
   "cell_type": "code",
   "execution_count": 116,
   "id": "119efd90-7a26-4aee-87e4-5a717b73d04b",
   "metadata": {},
   "outputs": [
    {
     "name": "stdout",
     "output_type": "stream",
     "text": [
      "Iteration    0: Cost 91474.10   \n",
      "Iteration    1: Cost 169486.78   \n",
      "Iteration    2: Cost 314542.65   \n",
      "Iteration    3: Cost 584257.82   \n",
      "Iteration    4: Cost 1085763.02   \n",
      "Iteration    5: Cost 2018255.84   \n",
      "Iteration    6: Cost 3752121.88   \n",
      "Iteration    7: Cost 6976051.77   \n",
      "Iteration    8: Cost 12970588.59   \n",
      "Iteration    9: Cost 24116758.97   \n",
      "b,w found by gradient descent: -0.00,[-4.29e+00 -9.81e-03 -3.70e-03 -1.10e-01] \n"
     ]
    }
   ],
   "source": [
    "# some gradient descent settings\n",
    "iterations = 10\n",
    "alpha = 9.9e-7\n",
    "\n",
    "# run gradient descent \n",
    "w_final, b_final, J_hist = gradient_descent(X_train, y_train, initial_w, initial_b,\n",
    "                                                    compute_cost, compute_gradient, \n",
    "                                                    alpha, iterations)\n",
    "print(f\"b,w found by gradient descent: {b_final:0.2f},{w_final} \")"
   ]
  },
  {
   "cell_type": "markdown",
   "id": "03d828ce-037c-4c94-bd64-223bc4518f6c",
   "metadata": {},
   "source": [
    "the learning rate is too high. The solution does not converge. Cost is increasing rather than decreasing."
   ]
  },
  {
   "cell_type": "code",
   "execution_count": 118,
   "id": "f702b44a-47a3-4e96-b07c-201d5e2a8b6c",
   "metadata": {},
   "outputs": [
    {
     "name": "stdout",
     "output_type": "stream",
     "text": [
      "Iteration    0: Cost 65119.26   \n",
      "Iteration    1: Cost 85706.09   \n",
      "Iteration    2: Cost 112871.69   \n",
      "Iteration    3: Cost 148718.37   \n",
      "Iteration    4: Cost 196020.26   \n",
      "Iteration    5: Cost 258438.03   \n",
      "Iteration    6: Cost 340802.11   \n",
      "Iteration    7: Cost 449486.59   \n",
      "Iteration    8: Cost 592902.43   \n",
      "Iteration    9: Cost 782148.45   \n",
      "b,w found by gradient descent: -0.00,[-0.61 -0.   -0.   -0.02] \n"
     ]
    }
   ],
   "source": [
    "# some gradient descent settings\n",
    "iterations = 10\n",
    "alpha = 9e-7\n",
    "\n",
    "# run gradient descent \n",
    "w_final, b_final, J_hist = gradient_descent(X_train, y_train, initial_w, initial_b,\n",
    "                                                    compute_cost, compute_gradient, \n",
    "                                                    alpha, iterations)\n",
    "print(f\"b,w found by gradient descent: {b_final:0.2f},{w_final} \")"
   ]
  },
  {
   "cell_type": "code",
   "execution_count": 114,
   "id": "a1de1f89-cdfd-4221-8380-6fb9e50f1e42",
   "metadata": {},
   "outputs": [
    {
     "name": "stdout",
     "output_type": "stream",
     "text": [
      "Iteration    0: Cost 28989.11   \n",
      "Iteration    1: Cost 17092.49   \n",
      "Iteration    2: Cost 10198.32   \n",
      "Iteration    3: Cost  6203.10   \n",
      "Iteration    4: Cost  3887.85   \n",
      "Iteration    5: Cost  2546.15   \n",
      "Iteration    6: Cost  1768.62   \n",
      "Iteration    7: Cost  1318.03   \n",
      "Iteration    8: Cost  1056.92   \n",
      "Iteration    9: Cost   905.60   \n",
      "b,w found by gradient descent: 0.00,[1.89e-01 4.41e-04 1.30e-04 4.64e-03] \n"
     ]
    }
   ],
   "source": [
    "# some gradient descent settings\n",
    "iterations = 10\n",
    "alpha = 1e-7\n",
    "\n",
    "# run gradient descent \n",
    "w_final, b_final, J_hist = gradient_descent(X_train, y_train, initial_w, initial_b,\n",
    "                                                    compute_cost, compute_gradient, \n",
    "                                                    alpha, iterations)\n",
    "print(f\"b,w found by gradient descent: {b_final:0.2f},{w_final} \")"
   ]
  },
  {
   "cell_type": "markdown",
   "id": "8d87da06-8013-4c47-938b-006dcfe7530e",
   "metadata": {},
   "source": [
    "### z-score normalization \n",
    "After z-score normalization, all features will have a mean of 0 and a standard deviation of 1.\n",
    "\n",
    "To implement z-score normalization, adjust your input values as shown in this formula:\n",
    "$$x^{(i)}_j = \\dfrac{x^{(i)}_j - \\mu_j}{\\sigma_j} \\tag{4}$$ \n",
    "where $j$ selects a feature or a column in the $\\mathbf{X}$ matrix. $µ_j$ is the mean of all the values for feature (j) and $\\sigma_j$ is the standard deviation of feature (j).\n",
    "$$\n",
    "\\begin{align}\n",
    "\\mu_j &= \\frac{1}{m} \\sum_{i=0}^{m-1} x^{(i)}_j \\tag{5}\\\\\n",
    "\\sigma^2_j &= \\frac{1}{m} \\sum_{i=0}^{m-1} (x^{(i)}_j - \\mu_j)^2  \\tag{6}\n",
    "\\end{align}\n",
    "$$\n"
   ]
  },
  {
   "cell_type": "code",
   "execution_count": null,
   "id": "e21d7aac-381c-41b2-81e5-77351037935b",
   "metadata": {},
   "outputs": [],
   "source": [
    "def zscore_normalize_features(X):\n",
    "    \"\"\"\n",
    "    computes  X, zcore normalized by column\n",
    "    \n",
    "    Args:\n",
    "      X (ndarray (m,n))     : input data, m examples, n features\n",
    "      \n",
    "    Returns:\n",
    "      X_norm (ndarray (m,n)): input normalized by column\n",
    "      mu (ndarray (n,))     : mean of each feature\n",
    "      sigma (ndarray (n,))  : standard deviation of each feature\n",
    "    \"\"\"\n",
    "    # find the mean of each column/feature\n",
    "    mu     = np.mean(X, axis=0)                 # mu will have shape (n,)\n",
    "    \n",
    "    # find the standard deviation of each column/feature\n",
    "    sigma  = np.std(X, axis=0)                  # sigma will have shape (n,)\n",
    "    \n",
    "    # element-wise, subtract mu for that column from each example, divide by std for that column\n",
    "    X_norm = (X - mu) / sigma      \n",
    "\n",
    "    return (X_norm, mu, sigma)\n",
    " "
   ]
  },
  {
   "cell_type": "code",
   "execution_count": null,
   "id": "ef85f296-0086-4e46-a03f-a7c09fa277f7",
   "metadata": {},
   "outputs": [],
   "source": []
  }
 ],
 "metadata": {
  "kernelspec": {
   "display_name": "Python 3 (ipykernel)",
   "language": "python",
   "name": "python3"
  },
  "language_info": {
   "codemirror_mode": {
    "name": "ipython",
    "version": 3
   },
   "file_extension": ".py",
   "mimetype": "text/x-python",
   "name": "python",
   "nbconvert_exporter": "python",
   "pygments_lexer": "ipython3",
   "version": "3.12.4"
  }
 },
 "nbformat": 4,
 "nbformat_minor": 5
}
