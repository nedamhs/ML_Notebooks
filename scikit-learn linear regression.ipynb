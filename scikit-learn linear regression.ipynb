{
 "cells": [
  {
   "cell_type": "code",
   "execution_count": 26,
   "id": "56be8e8e-f25a-4958-9f01-6f8c42c3906e",
   "metadata": {},
   "outputs": [],
   "source": [
    "import numpy as np\n",
    "import matplotlib.pyplot as plt\n",
    "from sklearn.linear_model import SGDRegressor\n",
    "from sklearn.preprocessing import StandardScaler\n",
    "\n",
    "#from lab_utils_common import dlc\n",
    "np.set_printoptions(precision=2)\n"
   ]
  },
  {
   "cell_type": "markdown",
   "id": "f191ae3b-6eac-4f87-877c-cb5ffa56ad61",
   "metadata": {},
   "source": [
    "Scikit-learn has a gradient descent regression model sklearn.linear_model.SGDRegressor. \n",
    " \n",
    "sklearn.preprocessing.StandardScaler perform z-score normalization. it is referred to as 'standard score'."
   ]
  },
  {
   "cell_type": "code",
   "execution_count": 28,
   "id": "3413a95c-8c95-4afc-9655-4c8fb41a9bbf",
   "metadata": {},
   "outputs": [],
   "source": [
    "# loading house data from a .csv file \n",
    "def load_house_data():\n",
    "    data = np.loadtxt(\"./data/houses.txt\", delimiter=',', skiprows=1)\n",
    "    X = data[:,:4]\n",
    "    y = data[:,4]\n",
    "    return X, y"
   ]
  },
  {
   "cell_type": "code",
   "execution_count": 88,
   "id": "9368586b-d1cd-4e4d-9f0d-fd0572bf1a34",
   "metadata": {},
   "outputs": [],
   "source": [
    "X_train, y_train = load_house_data()\n",
    "\n",
    "# labels for the features\n",
    "X_features = ['size(sqft)','bedrooms','floors','age']"
   ]
  },
  {
   "cell_type": "markdown",
   "id": "5c7991dd-ce88-4fd1-bfdf-54699d91e4f6",
   "metadata": {},
   "source": [
    "## scaling/normalizing data"
   ]
  },
  {
   "cell_type": "code",
   "execution_count": 102,
   "id": "35947aef-0376-41b0-8baa-6994a1adc79f",
   "metadata": {},
   "outputs": [
    {
     "name": "stdout",
     "output_type": "stream",
     "text": [
      "Peak to Peak range by column in Raw        X:[2.41e+03 4.00e+00 1.00e+00 9.50e+01]\n",
      "Peak to Peak range by column in Normalized X:[5.85 6.14 2.06 3.69]\n"
     ]
    }
   ],
   "source": [
    "# declaring a standard scalar object\n",
    "scaler = StandardScaler()\n",
    "\n",
    "# scaling data in X_train and  storing it in X_norm \n",
    "X_norm = scaler.fit_transform(X_train)\n",
    "\n",
    "# print(X_train)\n",
    "# print(X_norm)\n",
    "\n",
    "print(f\"Peak to Peak range by column in Raw        X:{np.ptp(X_train,axis=0)}\")   \n",
    "print(f\"Peak to Peak range by column in Normalized X:{np.ptp(X_norm,axis=0)}\")"
   ]
  },
  {
   "cell_type": "markdown",
   "id": "ceaf8c85-f903-462f-877f-ba52ee469477",
   "metadata": {},
   "source": [
    "### Create and fit the regression model"
   ]
  },
  {
   "cell_type": "code",
   "execution_count": 54,
   "id": "d38e2117-b473-4124-83c0-f86b3a48e1ef",
   "metadata": {},
   "outputs": [
    {
     "name": "stdout",
     "output_type": "stream",
     "text": [
      "SGDRegressor()\n",
      "number of iterations completed: 126\n",
      "number of weight updates: 12475.0\n"
     ]
    }
   ],
   "source": [
    "#creating the regression model\n",
    "sgdr = SGDRegressor(max_iter=1000)\n",
    "\n",
    "# fit x,y values to the regression model\n",
    "sgdr.fit(X_norm, y_train)\n",
    "\n",
    "print(sgdr)\n",
    "\n",
    "print(f\"number of iterations completed: {sgdr.n_iter_}\\n, number of weight updates: {sgdr.t_}\")"
   ]
  },
  {
   "cell_type": "markdown",
   "id": "2b905eba-7493-48a4-a343-5581a9a15e4e",
   "metadata": {},
   "source": [
    "## finding parameters W & b\n"
   ]
  },
  {
   "cell_type": "code",
   "execution_count": 66,
   "id": "305d19f7-2070-485a-b9ec-82a31ec80de6",
   "metadata": {},
   "outputs": [
    {
     "name": "stdout",
     "output_type": "stream",
     "text": [
      "model parameters:                   w: [110.19 -21.05 -32.43 -38.04], b:[363.15]\n"
     ]
    }
   ],
   "source": [
    "#(Bias) \n",
    "b_norm = sgdr.intercept_\n",
    "\n",
    "# coefficinets (weights) (W)\n",
    "w_norm = sgdr.coef_\n",
    "\n",
    "print(f\"model parameters:                   w: {w_norm}, b:{b_norm}\")"
   ]
  },
  {
   "cell_type": "markdown",
   "id": "89d58d13-d511-4b15-9748-89b0526a8af8",
   "metadata": {},
   "source": [
    "## Predictions"
   ]
  },
  {
   "cell_type": "code",
   "execution_count": 100,
   "id": "d371cb6f-5b90-4798-af70-95d282d9a785",
   "metadata": {},
   "outputs": [
    {
     "name": "stdout",
     "output_type": "stream",
     "text": [
      "[295.14 485.99 389.67 492.15 419.94 222.74 522.97 267.76 684.24 181.74\n",
      " 318.3  479.09 409.85 393.3  286.73 323.05 406.19 436.59 270.03 500.09\n",
      " 328.45 388.19 550.35 241.33 295.62 282.36 217.4  490.85 228.53 341.69\n",
      " 291.43 490.15 238.48 598.4  383.52 452.92 401.27 406.21 172.42 423.71\n",
      " 434.61 277.27 228.53 448.41 489.07 332.1  465.55 221.7  386.69 456.45\n",
      " 370.25 468.39 310.38 426.67 391.56 347.97 339.21 471.29 243.48 298.36\n",
      " 272.92 249.73 298.07 334.76 376.19 288.85 228.53 620.87 352.57 510.99\n",
      " 364.46 363.52 298.07 407.17 288.61 386.28 488.25 261.04 258.65 427.29\n",
      " 238.29 356.02 340.06 390.09 381.99 220.36 434.61 243.47 465.55 185.76\n",
      " 341.68 409.86 445.47 232.13 332.1  408.74 406.21 351.49 274.01] \n",
      "\n",
      "[295.14 485.99 389.67 492.15 419.94 222.74 522.97 267.76 684.24 181.74\n",
      " 318.3  479.09 409.85 393.3  286.73 323.05 406.19 436.59 270.03 500.09\n",
      " 328.45 388.19 550.35 241.33 295.62 282.36 217.4  490.85 228.53 341.69\n",
      " 291.43 490.15 238.48 598.4  383.52 452.92 401.27 406.21 172.42 423.71\n",
      " 434.61 277.27 228.53 448.41 489.07 332.1  465.55 221.7  386.69 456.45\n",
      " 370.25 468.39 310.38 426.67 391.56 347.97 339.21 471.29 243.48 298.36\n",
      " 272.92 249.73 298.07 334.76 376.19 288.85 228.53 620.87 352.57 510.99\n",
      " 364.46 363.52 298.07 407.17 288.61 386.28 488.25 261.04 258.65 427.29\n",
      " 238.29 356.02 340.06 390.09 381.99 220.36 434.61 243.47 465.55 185.76\n",
      " 341.68 409.86 445.47 232.13 332.1  408.74 406.21 351.49 274.01] \n",
      "\n",
      "prediction using np.dot() and sgdr.predict equal: True\n",
      "\n",
      "Prediction on training set:\n",
      "[295.14 485.99 389.67 492.15]\n",
      "\n",
      "Target values \n",
      "[300.  509.8 394.  540. ]\n"
     ]
    }
   ],
   "source": [
    "# make a prediction using sgdr.predict()\n",
    "y_pred_sgd = sgdr.predict(X_norm)\n",
    "print(y_pred_sgd, \"\\n\")\n",
    "\n",
    "# make a prediction using w,b. \n",
    "y_pred = np.dot(X_norm, w_norm) + b_norm  \n",
    "print(y_pred, \"\\n\")\n",
    "print(f\"prediction using np.dot() and sgdr.predict equal: {(y_pred == y_pred_sgd).all()}\\n\")\n",
    "\n",
    "print(f\"Prediction on training set:\\n{y_pred[:4]}\" )\n",
    "print(f\"\\nTarget values \\n{y_train[:4]}\")"
   ]
  },
  {
   "cell_type": "code",
   "execution_count": 104,
   "id": "9ae7526f-0863-4986-89b1-d7c3ca60655d",
   "metadata": {},
   "outputs": [
    {
     "ename": "NameError",
     "evalue": "name 'dlc' is not defined",
     "output_type": "error",
     "traceback": [
      "\u001b[0;31m---------------------------------------------------------------------------\u001b[0m",
      "\u001b[0;31mNameError\u001b[0m                                 Traceback (most recent call last)",
      "Cell \u001b[0;32mIn[104], line 6\u001b[0m\n\u001b[1;32m      4\u001b[0m     ax[i]\u001b[38;5;241m.\u001b[39mscatter(X_train[:,i],y_train, label \u001b[38;5;241m=\u001b[39m \u001b[38;5;124m'\u001b[39m\u001b[38;5;124mtarget\u001b[39m\u001b[38;5;124m'\u001b[39m)\n\u001b[1;32m      5\u001b[0m     ax[i]\u001b[38;5;241m.\u001b[39mset_xlabel(X_features[i])\n\u001b[0;32m----> 6\u001b[0m     ax[i]\u001b[38;5;241m.\u001b[39mscatter(X_train[:,i],y_pred,color\u001b[38;5;241m=\u001b[39mdlc[\u001b[38;5;124m\"\u001b[39m\u001b[38;5;124mdlorange\u001b[39m\u001b[38;5;124m\"\u001b[39m], label \u001b[38;5;241m=\u001b[39m \u001b[38;5;124m'\u001b[39m\u001b[38;5;124mpredict\u001b[39m\u001b[38;5;124m'\u001b[39m)\n\u001b[1;32m      7\u001b[0m ax[\u001b[38;5;241m0\u001b[39m]\u001b[38;5;241m.\u001b[39mset_ylabel(\u001b[38;5;124m\"\u001b[39m\u001b[38;5;124mPrice\u001b[39m\u001b[38;5;124m\"\u001b[39m); ax[\u001b[38;5;241m0\u001b[39m]\u001b[38;5;241m.\u001b[39mlegend();\n\u001b[1;32m      8\u001b[0m fig\u001b[38;5;241m.\u001b[39msuptitle(\u001b[38;5;124m\"\u001b[39m\u001b[38;5;124mtarget versus prediction using z-score normalized model\u001b[39m\u001b[38;5;124m\"\u001b[39m)\n",
      "\u001b[0;31mNameError\u001b[0m: name 'dlc' is not defined"
     ]
    },
    {
     "data": {
      "image/png": "[encoded data removed]",
      "text/plain": [
       "<Figure size 1200x300 with 4 Axes>"
      ]
     },
     "metadata": {},
     "output_type": "display_data"
    }
   ],
   "source": [
    "# plot predictions and targets vs original features    \n",
    "fig,ax=plt.subplots(1,4,figsize=(12,3),sharey=True)\n",
    "for i in range(len(ax)):\n",
    "    ax[i].scatter(X_train[:,i],y_train, label = 'target')\n",
    "    ax[i].set_xlabel(X_features[i])\n",
    "    ax[i].scatter(X_train[:,i],y_pred,color=dlc[\"dlorange\"], label = 'predict')\n",
    "ax[0].set_ylabel(\"Price\"); ax[0].legend();\n",
    "fig.suptitle(\"target versus prediction using z-score normalized model\")\n",
    "plt.show()"
   ]
  },
  {
   "cell_type": "code",
   "execution_count": null,
   "id": "d5f11e24-f12d-4a4b-98eb-ca26645f2be4",
   "metadata": {},
   "outputs": [],
   "source": []
  }
 ],
 "metadata": {
  "kernelspec": {
   "display_name": "Python 3 (ipykernel)",
   "language": "python",
   "name": "python3"
  },
  "language_info": {
   "codemirror_mode": {
    "name": "ipython",
    "version": 3
   },
   "file_extension": ".py",
   "mimetype": "text/x-python",
   "name": "python",
   "nbconvert_exporter": "python",
   "pygments_lexer": "ipython3",
   "version": "3.12.4"
  }
 },
 "nbformat": 4,
 "nbformat_minor": 5
}
