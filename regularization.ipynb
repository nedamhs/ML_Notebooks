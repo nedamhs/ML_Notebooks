{
 "cells": [
  {
   "cell_type": "code",
   "execution_count": 178,
   "id": "2331cd56-b5d2-4e74-9f73-7a89292fc7bf",
   "metadata": {},
   "outputs": [],
   "source": [
    "import numpy as np\n",
    "%matplotlib widget\n",
    "import matplotlib.pyplot as plt"
   ]
  },
  {
   "cell_type": "markdown",
   "id": "3cd6ec69-4df1-4633-8043-ec8c63a0fe2c",
   "metadata": {},
   "source": [
    "## linear regression / regularized cost function"
   ]
  },
  {
   "cell_type": "markdown",
   "id": "6069f9be-4eec-4163-b233-7b70e3a4f073",
   "metadata": {},
   "source": [
    "$$J(\\mathbf{w},b) = \\frac{1}{2m} \\sum\\limits_{i = 0}^{m-1} (f_{\\mathbf{w},b}(\\mathbf{x}^{(i)}) - y^{(i)})^2  + \\frac{\\lambda}{2m}  \\sum_{j=0}^{n-1} w_j^2 $$ \n",
    "\n",
    "$$ f_{\\mathbf{w},b}(\\mathbf{x}^{(i)}) = \\mathbf{w} \\cdot \\mathbf{x}^{(i)} + b  $$"
   ]
  },
  {
   "cell_type": "code",
   "execution_count": 180,
   "id": "99cdf2f9-a772-46da-af64-bf8e2690888f",
   "metadata": {},
   "outputs": [],
   "source": [
    "def compute_cost_linear_reg(X, y, w, b, lambda_ = 1):\n",
    "    \n",
    "      m = X.shape[0]\n",
    "      n = X.shape[1]\n",
    "\n",
    "    \n",
    "      total_sq_err = 0\n",
    "      for i in range(m) : \n",
    "          f_x = np.dot(w,X[i]) + b\n",
    "          total_sq_err += (f_x - y[i]) ** 2\n",
    "      total_sq_err = total_sq_err / (2 * m)\n",
    "\n",
    "    \n",
    "      regularized_term = 0 \n",
    "      for j in range (n) : \n",
    "          regularized_term  += (w[j]) ** 2\n",
    "      regularized_term = (lambda_ / (2 * m)) * regularized_term \n",
    "\n",
    "\n",
    "      total_cost = total_sq_err + regularized_term\n",
    "\n",
    "      return total_cost\n",
    " "
   ]
  },
  {
   "cell_type": "code",
   "execution_count": 182,
   "id": "da40ba5f-9458-4ce4-97a5-5a4463a1c49b",
   "metadata": {},
   "outputs": [
    {
     "name": "stdout",
     "output_type": "stream",
     "text": [
      "Regularized cost: 0.07917239320214277\n"
     ]
    }
   ],
   "source": [
    "np.random.seed(1)\n",
    "X_tmp = np.random.rand(5,6)\n",
    "y_tmp = np.array([0,1,0,1,0])\n",
    "w_tmp = np.random.rand(X_tmp.shape[1]).reshape(-1,)-0.5\n",
    "b_tmp = 0.5\n",
    "lambda_tmp = 0.7\n",
    "cost_tmp = compute_cost_linear_reg(X_tmp, y_tmp, w_tmp, b_tmp, lambda_tmp)\n",
    "\n",
    "print(\"Regularized cost:\", cost_tmp)"
   ]
  },
  {
   "cell_type": "markdown",
   "id": "4c62da52-e961-4308-ab28-d12ade65c57f",
   "metadata": {},
   "source": [
    "## logistic regression / regularized cost function"
   ]
  },
  {
   "cell_type": "markdown",
   "id": "422a55d0-5431-40f4-bfbd-7b4277a4dd22",
   "metadata": {},
   "source": [
    "$$J(\\mathbf{w},b) = \\frac{1}{m}  \\sum_{i=0}^{m-1} \\left[ -y^{(i)} \\log\\left(f_{\\mathbf{w},b}\\left( \\mathbf{x}^{(i)} \\right) \\right) - \\left( 1 - y^{(i)}\\right) \\log \\left( 1 - f_{\\mathbf{w},b}\\left( \\mathbf{x}^{(i)} \\right) \\right) \\right] + \\frac{\\lambda}{2m}  \\sum_{j=0}^{n-1} w_j^2 $$\n",
    "$$ f_{\\mathbf{w},b}(\\mathbf{x}^{(i)}) = sigmoid(\\mathbf{w} \\cdot \\mathbf{x}^{(i)} + b)  $$ "
   ]
  },
  {
   "cell_type": "code",
   "execution_count": 186,
   "id": "03ba1dad-db58-4963-ba81-241aca525c4f",
   "metadata": {},
   "outputs": [],
   "source": [
    "import math\n",
    "def compute_cost_logistic_reg(X, y, w, b, lambda_ = 1):\n",
    "    \n",
    "      m = X.shape[0]\n",
    "      n = X.shape[1]\n",
    "\n",
    "      total_loss = 0\n",
    "      total_cost = 0\n",
    "    \n",
    "      for i in range(m):\n",
    "           z_i = np.dot(w, X[i]) + b\n",
    "           f_x = 1 / (1 + np.exp(-z_i))    # sigmoid function\n",
    "    \n",
    "           total_loss += -y[i] * math.log(f_x) - (1 - y[i]) * math.log(1-f_x)\n",
    "     \n",
    "      total_cost = (total_loss )/m \n",
    "\n",
    "      regularized_term = 0 \n",
    "      for j in range (n) : \n",
    "          regularized_term  += (w[j]) ** 2\n",
    "      regularized_term = (lambda_ / (2 * m)) * regularized_term \n",
    "\n",
    "\n",
    "      total_cost = total_cost + regularized_term\n",
    "     \n",
    "      return total_cost"
   ]
  },
  {
   "cell_type": "code",
   "execution_count": 188,
   "id": "a630709c-3a3f-4480-b055-5ec592010874",
   "metadata": {},
   "outputs": [
    {
     "name": "stdout",
     "output_type": "stream",
     "text": [
      "Regularized cost: 0.6850849138741673\n"
     ]
    }
   ],
   "source": [
    "np.random.seed(1)\n",
    "X_tmp = np.random.rand(5,6)\n",
    "y_tmp = np.array([0,1,0,1,0])\n",
    "w_tmp = np.random.rand(X_tmp.shape[1]).reshape(-1,)-0.5\n",
    "b_tmp = 0.5\n",
    "lambda_tmp = 0.7\n",
    "cost_tmp = compute_cost_logistic_reg(X_tmp, y_tmp, w_tmp, b_tmp, lambda_tmp)\n",
    "\n",
    "print(\"Regularized cost:\", cost_tmp)"
   ]
  },
  {
   "cell_type": "markdown",
   "id": "8eba43c1-d25c-4aec-8e90-cd343139a22e",
   "metadata": {},
   "source": [
    "## linear regression / regularized gradient function"
   ]
  },
  {
   "cell_type": "markdown",
   "id": "96efcf70-448c-4132-90a4-7821012a4cf3",
   "metadata": {},
   "source": [
    "\n",
    "$$\\begin{align*}\n",
    "\\frac{\\partial J(\\mathbf{w},b)}{\\partial w_j}  &= \\frac{1}{m} \\sum\\limits_{i = 0}^{m-1} (f_{\\mathbf{w},b}(\\mathbf{x}^{(i)}) - y^{(i)})x_{j}^{(i)}  +  \\frac{\\lambda}{m} w_j  \\\\\n",
    "\\frac{\\partial J(\\mathbf{w},b)}{\\partial b}  &= \\frac{1}{m} \\sum\\limits_{i = 0}^{m-1} (f_{\\mathbf{w},b}(\\mathbf{x}^{(i)}) - y^{(i)})  \n",
    "\\end{align*}$$\n",
    "\n",
    "* <span style=\"color:blue\"> **linear** </span> regression  \n",
    "    $f_{\\mathbf{w},b}(x) = \\mathbf{w} \\cdot \\mathbf{x} + b$\n"
   ]
  },
  {
   "cell_type": "code",
   "execution_count": 192,
   "id": "cf10aa1d-4313-4c4f-b1ad-de6b8b878081",
   "metadata": {},
   "outputs": [],
   "source": [
    "def compute_gradient_logistic_reg(X, y, w, b, lambda_): \n",
    "\n",
    "    \n",
    "    m = X.shape[0]\n",
    "    n = X.shape[1]\n",
    "    dj_dw = np.zeros((n,))\n",
    "    dj_db = 0\n",
    "    \n",
    "    for i in range(m) : \n",
    "        f_x = np.dot(X[i],w) + b\n",
    "        err = f_x - y[i]\n",
    "        dj_db += err\n",
    "        for j in range(n):\n",
    "            dj_dw[j] += (err * X[i,j])\n",
    "        \n",
    "\n",
    "    dj_dw = dj_dw / m\n",
    "    dj_db = dj_db / m\n",
    "    \n",
    "\n",
    "    for j in range(n):\n",
    "           dj_dw[j] += (lambda_/m) * w[j]\n",
    "\n",
    "    return dj_db, dj_dw"
   ]
  },
  {
   "cell_type": "code",
   "execution_count": 194,
   "id": "0a66c7e2-b128-4a4d-94ae-51cefad5ed92",
   "metadata": {},
   "outputs": [
    {
     "name": "stdout",
     "output_type": "stream",
     "text": [
      "dj_db: 0.6648774569425726\n",
      "Regularized dj_dw:\n",
      " [0.29653214748822276, 0.4911679625918033, 0.21645877535865857]\n"
     ]
    }
   ],
   "source": [
    "np.random.seed(1)\n",
    "X_tmp = np.random.rand(5,3)\n",
    "y_tmp = np.array([0,1,0,1,0])\n",
    "w_tmp = np.random.rand(X_tmp.shape[1])\n",
    "b_tmp = 0.5\n",
    "lambda_tmp = 0.7\n",
    "\n",
    "dj_db_tmp, dj_dw_tmp =  compute_gradient_logistic_reg(X_tmp, y_tmp, w_tmp, b_tmp, lambda_tmp)\n",
    "\n",
    "print(f\"dj_db: {dj_db_tmp}\", )\n",
    "print(f\"Regularized dj_dw:\\n {dj_dw_tmp.tolist()}\", )"
   ]
  },
  {
   "cell_type": "markdown",
   "id": "48804755-e427-4d25-967f-40624256d898",
   "metadata": {},
   "source": [
    "## logistic regression / regularized gradient function"
   ]
  },
  {
   "cell_type": "markdown",
   "id": "64e4c8bf-d16e-478b-b5c0-ae3d5e03ac1b",
   "metadata": {},
   "source": [
    "\n",
    "$$\\begin{align*}\n",
    "\\frac{\\partial J(\\mathbf{w},b)}{\\partial w_j}  &= \\frac{1}{m} \\sum\\limits_{i = 0}^{m-1} (f_{\\mathbf{w},b}(\\mathbf{x}^{(i)}) - y^{(i)})x_{j}^{(i)}  +  \\frac{\\lambda}{m} w_j  \\\\\n",
    "\\frac{\\partial J(\\mathbf{w},b)}{\\partial b}  &= \\frac{1}{m} \\sum\\limits_{i = 0}^{m-1} (f_{\\mathbf{w},b}(\\mathbf{x}^{(i)}) - y^{(i)})\n",
    "\\end{align*}$$\n",
    "  \n",
    "*  **logistic** </span> regression\n",
    "*   \n",
    "    $z = \\mathbf{w} \\cdot \\mathbf{x} + b$  \n",
    "    $f_{\\mathbf{w},b}(x) = g(z)$  \n",
    "    where $g(z)$ is the sigmoid function:  \n",
    "    $g(z) = \\frac{1}{1+e^{-z}}$   "
   ]
  },
  {
   "cell_type": "code",
   "execution_count": 198,
   "id": "667953fd-3e37-41ef-b456-f9ee270a0874",
   "metadata": {},
   "outputs": [],
   "source": [
    "def compute_gradient_logistic_reg(X, y, w, b, lambda_): \n",
    "\n",
    "    m = X.shape[0]\n",
    "    n = X.shape[1]\n",
    "    dj_dw = np.zeros((n,))\n",
    "    dj_db = 0\n",
    "    \n",
    "    for i in range(m) : \n",
    "        z = np.dot(X[i],w) + b\n",
    "        f_x = 1 / (1 + np.exp(-z)) # sigmoid function\n",
    "        err = f_x - y[i]\n",
    "        dj_db += err\n",
    "        for j in range(n):\n",
    "            dj_dw[j] += (err * X[i,j])\n",
    "        \n",
    "\n",
    "    dj_dw = dj_dw / m\n",
    "    dj_db = dj_db / m\n",
    "    \n",
    "\n",
    "    for j in range(n):\n",
    "           dj_dw[j] += (lambda_/m) * w[j]\n",
    "\n",
    "    return dj_db, dj_dw"
   ]
  },
  {
   "cell_type": "code",
   "execution_count": 200,
   "id": "61fa296a-8c4d-4f32-bdf7-3255a958cf7e",
   "metadata": {},
   "outputs": [
    {
     "name": "stdout",
     "output_type": "stream",
     "text": [
      "dj_db: 0.341798994972791\n",
      "Regularized dj_dw:\n",
      " [0.17380012933994293, 0.32007507881566943, 0.10776313396851499]\n"
     ]
    }
   ],
   "source": [
    "np.random.seed(1)\n",
    "X_tmp = np.random.rand(5,3)\n",
    "y_tmp = np.array([0,1,0,1,0])\n",
    "w_tmp = np.random.rand(X_tmp.shape[1])\n",
    "b_tmp = 0.5\n",
    "lambda_tmp = 0.7\n",
    "dj_db_tmp, dj_dw_tmp =  compute_gradient_logistic_reg(X_tmp, y_tmp, w_tmp, b_tmp, lambda_tmp)\n",
    "\n",
    "print(f\"dj_db: {dj_db_tmp}\", )\n",
    "print(f\"Regularized dj_dw:\\n {dj_dw_tmp.tolist()}\", )"
   ]
  }
 ],
 "metadata": {
  "kernelspec": {
   "display_name": "Python 3 (ipykernel)",
   "language": "python",
   "name": "python3"
  },
  "language_info": {
   "codemirror_mode": {
    "name": "ipython",
    "version": 3
   },
   "file_extension": ".py",
   "mimetype": "text/x-python",
   "name": "python",
   "nbconvert_exporter": "python",
   "pygments_lexer": "ipython3",
   "version": "3.12.2"
  }
 },
 "nbformat": 4,
 "nbformat_minor": 5
}
