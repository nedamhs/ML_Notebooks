{
 "cells": [
  {
   "cell_type": "markdown",
   "id": "a6266501-21bd-4ae9-9516-d0e043b21927",
   "metadata": {},
   "source": [
    "## cost function implementation"
   ]
  },
  {
   "cell_type": "code",
   "execution_count": 13,
   "id": "7fd39774-3904-4376-8d70-a3f819a29d1d",
   "metadata": {},
   "outputs": [],
   "source": [
    "import numpy as np\n",
    "#%matplotlib widget\n",
    "import matplotlib.pyplot as plt\n",
    "#from lab_utils_uni import plt_intuition, plt_stationary, plt_update_onclick, soup_bowl\n"
   ]
  },
  {
   "cell_type": "markdown",
   "id": "2a88dcf7-0ad3-4b71-b5c7-ac8c93d01902",
   "metadata": {},
   "source": [
    "## Cost function\n",
    "\n",
    "  $$J(w,b) = \\frac{1}{2m} \\sum\\limits_{i = 0}^{m-1} (f_{w,b}(x^{(i)}) - y^{(i)})^2 \\tag{1}$$ \n",
    " \n",
    "  \n",
    "- $f_{w,b}(x^{(i)}) = wx^{(i)} + b \\tag{2}$ is our prediction for example $i$ using parameters $w,b$.  \n",
    "- $(f_{w,b}(x^{(i)}) -y^{(i)})^2$ is the squared difference between the target value and the prediction.    "
   ]
  },
  {
   "cell_type": "code",
   "execution_count": 14,
   "id": "e9f4cc86-b779-4d45-b08b-f4161b38dcf7",
   "metadata": {},
   "outputs": [],
   "source": [
    "def compute_cost(x, y, w, b): \n",
    "    \"\"\"\n",
    "    Computes the cost function for linear regression.\n",
    "    \n",
    "    Args:\n",
    "      x (ndarray (m,)): Data, m examples \n",
    "      y (ndarray (m,)): target values\n",
    "      w,b (scalar)    : model parameters  \n",
    "    \n",
    "    Returns\n",
    "        total_cost (float): The cost of using w,b as the parameters for linear regression\n",
    "               to fit the data points in x and y\n",
    "    \"\"\"\n",
    "    # number of training examples\n",
    "    m = x.shape[0] \n",
    "    \n",
    "    cost_sum = 0 \n",
    "    for i in range(m): \n",
    "        predicted_value = w * x[i] + b     \n",
    "        cost_sum += (predicted_value - y[i]) ** 2  \n",
    "    total_cost = (1 / (2 * m)) * cost_sum  \n",
    "\n",
    "    return total_cost"
   ]
  },
  {
   "cell_type": "markdown",
   "id": "7e10b59f-a681-4d8d-9171-fee2962984ec",
   "metadata": {},
   "source": [
    "## finding optimal values for w, b that minimizes the cost function"
   ]
  },
  {
   "cell_type": "code",
   "execution_count": 46,
   "id": "77b8a2a2-f1b5-47bd-87b3-4db8e51fefe7",
   "metadata": {},
   "outputs": [],
   "source": [
    "##finding optimal w & b values\n",
    "\n",
    "def find_Linear_model(x_train,y_train): \n",
    "    min_cost = 999999\n",
    "\n",
    "    for w in range(-500,500): \n",
    "        for b in range (-500,500): \n",
    "            cost = compute_cost(x_train, y_train, w,b)\n",
    "            if cost < min_cost: \n",
    "                min_cost = cost\n",
    "                optimal_w = w\n",
    "                optimal_b = b\n",
    "\n",
    "    print(\"w = \" ,optimal_w)\n",
    "    print(\"b = \" ,optimal_b)\n",
    "\n",
    "    print(\"linear regression model is : f(x) = \", optimal_w,\"x + \", optimal_b)\n",
    "          "
   ]
  },
  {
   "cell_type": "code",
   "execution_count": 47,
   "id": "31dbc1e4-b3ef-4fac-9374-b989f4882352",
   "metadata": {},
   "outputs": [
    {
     "name": "stdout",
     "output_type": "stream",
     "text": [
      "w =  200\n",
      "b =  100\n",
      "linear regression model is : f(x) =  200 x +  100\n"
     ]
    }
   ],
   "source": [
    "x_train = np.array([1.0, 2.0, 3.0, 4.0])      #(size in 1000 square feet)\n",
    "y_train = np.array([300.0, 500.0, 700.00, 900.00])   #(price in 1000s of dollars)\n",
    "\n",
    "find_Linear_model(x_train,y_train)\n",
    "\n"
   ]
  },
  {
   "cell_type": "code",
   "execution_count": 48,
   "id": "20a96512-9682-4895-a073-b2292fa8bdd4",
   "metadata": {},
   "outputs": [
    {
     "name": "stdout",
     "output_type": "stream",
     "text": [
      "w =  194\n",
      "b =  32\n",
      "linear regression model is : f(x) =  194 x +  32\n"
     ]
    }
   ],
   "source": [
    "x_train = np.array([1.0, 1.7, 2.0, 2.5, 3.0, 3.2, 4.0])   #(size in 1000 square feet)\n",
    "y_train = np.array([250, 300, 480,  430,   630, 730,780])  #(price in 1000s of dollars)\n",
    "\n",
    "find_Linear_model(x_train,y_train)"
   ]
  },
  {
   "cell_type": "code",
   "execution_count": null,
   "id": "c87b1ca3-9e01-4e44-9c1c-33fa2c625fd9",
   "metadata": {},
   "outputs": [],
   "source": []
  }
 ],
 "metadata": {
  "kernelspec": {
   "display_name": "Python 3 (ipykernel)",
   "language": "python",
   "name": "python3"
  },
  "language_info": {
   "codemirror_mode": {
    "name": "ipython",
    "version": 3
   },
   "file_extension": ".py",
   "mimetype": "text/x-python",
   "name": "python",
   "nbconvert_exporter": "python",
   "pygments_lexer": "ipython3",
   "version": "3.12.4"
  }
 },
 "nbformat": 4,
 "nbformat_minor": 5
}
