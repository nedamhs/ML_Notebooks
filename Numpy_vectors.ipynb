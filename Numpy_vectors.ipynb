{
 "cells": [
  {
   "cell_type": "code",
   "execution_count": 3,
   "id": "11a3f8a0-020b-4557-a37f-c25610ac9940",
   "metadata": {},
   "outputs": [],
   "source": [
    "import numpy as np    # it is an unofficial standard to use np for numpy\n",
    "import time"
   ]
  },
  {
   "cell_type": "code",
   "execution_count": 86,
   "id": "9fa0cdaf-e8ae-41db-9d74-259d2b05af48",
   "metadata": {},
   "outputs": [
    {
     "name": "stdout",
     "output_type": "stream",
     "text": [
      "a = [0. 0. 0. 0.]\n",
      "a shape = (4,)\n",
      "\n",
      "a = [[0. 0. 0.]\n",
      " [0. 0. 0.]\n",
      " [0. 0. 0.]\n",
      " [0. 0. 0.]]\n",
      "a shape = (4, 3)\n",
      "\n",
      "a = [[[0. 0. 0. 0.]\n",
      "  [0. 0. 0. 0.]\n",
      "  [0. 0. 0. 0.]]\n",
      "\n",
      " [[0. 0. 0. 0.]\n",
      "  [0. 0. 0. 0.]\n",
      "  [0. 0. 0. 0.]]]\n",
      "a shape = (2, 3, 4)\n",
      "\n",
      "a = [0.40563692 0.09476425 0.14356247 0.87466436]\n",
      "a shape = (4,)\n"
     ]
    }
   ],
   "source": [
    "# NumPy routines which allocate memory and fill arrays with value and accept shape as input argument\n",
    "# creating a 1-d vector of zeros\n",
    "a = np.zeros(4);                \n",
    "print(f\"a = {a}\")\n",
    "print(f\"a shape = {a.shape}\\n\")\n",
    "\n",
    "# accepts shape as input argument\n",
    "a = np.zeros((4,3));      \n",
    "print(f\"a = {a}\")\n",
    "print(f\"a shape = {a.shape}\\n\")\n",
    "\n",
    "# create a 3d array \n",
    "a = np.zeros((2,3,4));      \n",
    "print(f\"a = {a}\")\n",
    "print(f\"a shape = {a.shape}\\n\")\n",
    "\n",
    "# creating a vector with 4 random elements\n",
    "a = np.random.random_sample(4); \n",
    "print(f\"a = {a}\")\n",
    "print(f\"a shape = {a.shape}\")"
   ]
  },
  {
   "cell_type": "code",
   "execution_count": 107,
   "id": "151f804b-2958-49a5-9706-0b8c394551e1",
   "metadata": {},
   "outputs": [
    {
     "name": "stdout",
     "output_type": "stream",
     "text": [
      "a = [0. 1. 2. 3. 4.]\n",
      "a shape = (5,)\n",
      "\n",
      "a = [0.13701599 0.57725127 0.1457312  0.06924033]\n",
      "a shape = (4,)\n"
     ]
    }
   ],
   "source": [
    "# NumPy routines which allocate memory and fill arrays with value but do not accept shape as input argument\n",
    "a = np.arange(5.);              \n",
    "print(f\"a = {a}\")\n",
    "print(f\"a shape = {a.shape}\\n\")\n",
    "\n",
    "a = np.random.rand(4);         \n",
    "print(f\"a = {a}\")\n",
    "print(f\"a shape = {a.shape}\")"
   ]
  },
  {
   "cell_type": "code",
   "execution_count": 96,
   "id": "540cf772-89e8-4f77-9dd7-2ac7892593ab",
   "metadata": {},
   "outputs": [
    {
     "name": "stdout",
     "output_type": "stream",
     "text": [
      "a = [5 4 3 2]\n",
      "a shape = (4,)\n",
      "\n",
      "a = [5. 4. 3. 2.]\n",
      "a shape = (4,)\n"
     ]
    }
   ],
   "source": [
    "# NumPy routines which allocate memory and fill with user specified values\n",
    "a = np.array([5,4,3,2]);     #int\n",
    "print(f\"a = {a}\")\n",
    "print(f\"a shape = {a.shape}\\n\")\n",
    "\n",
    "a = np.array([5.,4,3,2]);  #float\n",
    "print(f\"a = {a}\")\n",
    "print(f\"a shape = {a.shape}\")"
   ]
  },
  {
   "cell_type": "markdown",
   "id": "4187529a-80f4-4719-96f9-ac1088bb4dbd",
   "metadata": {},
   "source": [
    "## indexing"
   ]
  },
  {
   "cell_type": "code",
   "execution_count": 123,
   "id": "1e0f1fd2-4225-43a2-bd59-c159b891d131",
   "metadata": {},
   "outputs": [
    {
     "name": "stdout",
     "output_type": "stream",
     "text": [
      "a = [0 1 2 3 4 5 6 7 8 9]\n",
      "a[2]  = 2\n",
      "a[-1] = 9\n",
      "The error message you'll see is:\n",
      "index 10 is out of bounds for axis 0 with size 10\n"
     ]
    }
   ],
   "source": [
    "#### vector indexing operations on 1-D vectors\n",
    "a = np.arange(10)\n",
    "print(f\"a = {a}\")\n",
    "\n",
    "#access an element\n",
    "print(f\"a[2]  = {a[2]}\")\n",
    "\n",
    "# access the last element, negative indexes count from the end\n",
    "print(f\"a[-1] = {a[-1]}\")\n",
    "\n",
    "#indexs must be within the range of the vector or they will produce and error\n",
    "try:\n",
    "    c = a[10]\n",
    "except Exception as e:\n",
    "    print(\"The error message you'll see is:\")\n",
    "    print(e)"
   ]
  },
  {
   "cell_type": "code",
   "execution_count": null,
   "id": "3f50bdcc-6748-4fd5-8ba8-a1e35bfc071e",
   "metadata": {},
   "outputs": [],
   "source": []
  }
 ],
 "metadata": {
  "kernelspec": {
   "display_name": "Python 3 (ipykernel)",
   "language": "python",
   "name": "python3"
  },
  "language_info": {
   "codemirror_mode": {
    "name": "ipython",
    "version": 3
   },
   "file_extension": ".py",
   "mimetype": "text/x-python",
   "name": "python",
   "nbconvert_exporter": "python",
   "pygments_lexer": "ipython3",
   "version": "3.12.4"
  }
 },
 "nbformat": 4,
 "nbformat_minor": 5
}
