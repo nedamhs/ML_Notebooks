{
 "cells": [
  {
   "cell_type": "code",
   "execution_count": 3,
   "id": "11a3f8a0-020b-4557-a37f-c25610ac9940",
   "metadata": {},
   "outputs": [],
   "source": [
    "import numpy as np    # it is an unofficial standard to use np for numpy\n",
    "import time"
   ]
  },
  {
   "cell_type": "code",
   "execution_count": 86,
   "id": "9fa0cdaf-e8ae-41db-9d74-259d2b05af48",
   "metadata": {},
   "outputs": [
    {
     "name": "stdout",
     "output_type": "stream",
     "text": [
      "a = [0. 0. 0. 0.]\n",
      "a shape = (4,)\n",
      "\n",
      "a = [[0. 0. 0.]\n",
      " [0. 0. 0.]\n",
      " [0. 0. 0.]\n",
      " [0. 0. 0.]]\n",
      "a shape = (4, 3)\n",
      "\n",
      "a = [[[0. 0. 0. 0.]\n",
      "  [0. 0. 0. 0.]\n",
      "  [0. 0. 0. 0.]]\n",
      "\n",
      " [[0. 0. 0. 0.]\n",
      "  [0. 0. 0. 0.]\n",
      "  [0. 0. 0. 0.]]]\n",
      "a shape = (2, 3, 4)\n",
      "\n",
      "a = [0.40563692 0.09476425 0.14356247 0.87466436]\n",
      "a shape = (4,)\n"
     ]
    }
   ],
   "source": [
    "# NumPy routines which allocate memory and fill arrays with value and accept shape as input argument\n",
    "# creating a 1-d vector of zeros\n",
    "a = np.zeros(4);                \n",
    "print(f\"a = {a}\")\n",
    "print(f\"a shape = {a.shape}\\n\")\n",
    "\n",
    "# accepts shape as input argument\n",
    "a = np.zeros((4,3));      \n",
    "print(f\"a = {a}\")\n",
    "print(f\"a shape = {a.shape}\\n\")\n",
    "\n",
    "# create a 3d array \n",
    "a = np.zeros((2,3,4));      \n",
    "print(f\"a = {a}\")\n",
    "print(f\"a shape = {a.shape}\\n\")\n",
    "\n",
    "# creating a vector with 4 random elements\n",
    "a = np.random.random_sample(4); \n",
    "print(f\"a = {a}\")\n",
    "print(f\"a shape = {a.shape}\")"
   ]
  },
  {
   "cell_type": "code",
   "execution_count": 107,
   "id": "151f804b-2958-49a5-9706-0b8c394551e1",
   "metadata": {},
   "outputs": [
    {
     "name": "stdout",
     "output_type": "stream",
     "text": [
      "a = [0. 1. 2. 3. 4.]\n",
      "a shape = (5,)\n",
      "\n",
      "a = [0.13701599 0.57725127 0.1457312  0.06924033]\n",
      "a shape = (4,)\n"
     ]
    }
   ],
   "source": [
    "# NumPy routines which allocate memory and fill arrays with value but do not accept shape as input argument\n",
    "a = np.arange(5.);              \n",
    "print(f\"a = {a}\")\n",
    "print(f\"a shape = {a.shape}\\n\")\n",
    "\n",
    "a = np.random.rand(4);         \n",
    "print(f\"a = {a}\")\n",
    "print(f\"a shape = {a.shape}\")"
   ]
  },
  {
   "cell_type": "code",
   "execution_count": 96,
   "id": "540cf772-89e8-4f77-9dd7-2ac7892593ab",
   "metadata": {},
   "outputs": [
    {
     "name": "stdout",
     "output_type": "stream",
     "text": [
      "a = [5 4 3 2]\n",
      "a shape = (4,)\n",
      "\n",
      "a = [5. 4. 3. 2.]\n",
      "a shape = (4,)\n"
     ]
    }
   ],
   "source": [
    "# NumPy routines which allocate memory and fill with user specified values\n",
    "a = np.array([5,4,3,2]);     #int\n",
    "print(f\"a = {a}\")\n",
    "print(f\"a shape = {a.shape}\\n\")\n",
    "\n",
    "a = np.array([5.,4,3,2]);  #float\n",
    "print(f\"a = {a}\")\n",
    "print(f\"a shape = {a.shape}\")"
   ]
  },
  {
   "cell_type": "markdown",
   "id": "4187529a-80f4-4719-96f9-ac1088bb4dbd",
   "metadata": {},
   "source": [
    "## indexing"
   ]
  },
  {
   "cell_type": "code",
   "execution_count": 123,
   "id": "1e0f1fd2-4225-43a2-bd59-c159b891d131",
   "metadata": {},
   "outputs": [
    {
     "name": "stdout",
     "output_type": "stream",
     "text": [
      "a = [0 1 2 3 4 5 6 7 8 9]\n",
      "a[2]  = 2\n",
      "a[-1] = 9\n",
      "The error message you'll see is:\n",
      "index 10 is out of bounds for axis 0 with size 10\n"
     ]
    }
   ],
   "source": [
    "#### vector indexing operations on 1-D vectors\n",
    "a = np.arange(10)\n",
    "print(f\"a = {a}\")\n",
    "\n",
    "#access an element\n",
    "print(f\"a[2]  = {a[2]}\")\n",
    "\n",
    "# access the last element, negative indexes count from the end\n",
    "print(f\"a[-1] = {a[-1]}\")\n",
    "\n",
    "#indexs must be within the range of the vector or they will produce and error\n",
    "try:\n",
    "    c = a[10]\n",
    "except Exception as e:\n",
    "    print(\"The error message you'll see is:\")\n",
    "    print(e)"
   ]
  },
  {
   "cell_type": "markdown",
   "id": "9fe3b209-aba5-4f89-8254-6d41a800cafd",
   "metadata": {},
   "source": [
    "## slicing"
   ]
  },
  {
   "cell_type": "code",
   "execution_count": 131,
   "id": "3f50bdcc-6748-4fd5-8ba8-a1e35bfc071e",
   "metadata": {},
   "outputs": [
    {
     "name": "stdout",
     "output_type": "stream",
     "text": [
      "a = [0 1 2 3 4 5 6 7 8 9]\n",
      "a[2:7:1] =  [2 3 4 5 6]\n",
      "a[2:7:2] =  [2 4 6]\n",
      "a[3:]    =  [3 4 5 6 7 8 9]\n",
      "a[:3]    =  [0 1 2]\n",
      "a[:]     =  [0 1 2 3 4 5 6 7 8 9]\n"
     ]
    }
   ],
   "source": [
    "#vector slicing operations\n",
    "a = np.arange(10)\n",
    "print(f\"a = {a}\")\n",
    "\n",
    "#access 5 consecutive elements (start:stop:step)\n",
    "c = a[2:7:1];    \n",
    "print(\"a[2:7:1] = \", c)\n",
    "\n",
    "# access 3 elements separated by two \n",
    "c = a[2:7:2];    \n",
    "print(\"a[2:7:2] = \", c)\n",
    "\n",
    "# access all elements index 3 and above\n",
    "c = a[3:];        \n",
    "print(\"a[3:]    = \", c)\n",
    "\n",
    "# access all elements below index 3\n",
    "c = a[:3];        \n",
    "print(\"a[:3]    = \", c)\n",
    "\n",
    "# access all elements\n",
    "c = a[:];        \n",
    "print(\"a[:]     = \", c)"
   ]
  },
  {
   "cell_type": "markdown",
   "id": "d7fb1dc2-684d-4e1b-a0d7-916c2530f0d9",
   "metadata": {},
   "source": [
    "## single vector operations"
   ]
  },
  {
   "cell_type": "code",
   "execution_count": 145,
   "id": "acb4e338-80c0-429e-ba97-fb1fcbfd76dc",
   "metadata": {},
   "outputs": [
    {
     "name": "stdout",
     "output_type": "stream",
     "text": [
      "a = [1 2 3 4]\n",
      "b = -a        : [-1 -2 -3 -4]\n",
      "b = np.sum(a) : 10\n",
      "b = np.mean(a): 2.5\n",
      "b = a**2      : [ 1  4  9 16]\n",
      "b = 5 * a : [ 5 10 15 20]\n"
     ]
    }
   ],
   "source": [
    "a = np.array([1,2,3,4])\n",
    "print(f\"a = {a}\")\n",
    "\n",
    "# negate elements of a\n",
    "b = -a \n",
    "print(f\"b = -a        : {b}\")\n",
    "\n",
    "# sum all elements of a, returns a scalar\n",
    "b = np.sum(a) \n",
    "print(f\"b = np.sum(a) : {b}\")\n",
    "\n",
    "b = np.mean(a)\n",
    "print(f\"b = np.mean(a): {b}\")\n",
    "\n",
    "b = a**2\n",
    "print(f\"b = a**2      : {b}\")\n",
    "\n",
    "# multiply a by a scalar\n",
    "b = 5 * a \n",
    "print(f\"b = 5 * a : {b}\")"
   ]
  },
  {
   "cell_type": "markdown",
   "id": "08879c58-5234-474c-9a5d-52ddc00f1195",
   "metadata": {},
   "source": [
    "## multi vector operations"
   ]
  },
  {
   "cell_type": "code",
   "execution_count": 141,
   "id": "163a84b3-688d-4108-9194-2504193a773c",
   "metadata": {},
   "outputs": [
    {
     "name": "stdout",
     "output_type": "stream",
     "text": [
      "adding corresponding elements of a & b:  [0 0 6 8]\n"
     ]
    }
   ],
   "source": [
    "a = np.array([ 1, 2, 3, 4])\n",
    "b = np.array([-1,-2, 3, 4])\n",
    "print(f\"adding corresponding elements of a & b:  {a + b}\")"
   ]
  },
  {
   "cell_type": "code",
   "execution_count": 143,
   "id": "4d44a55a-7531-439e-a380-9f0a823a9158",
   "metadata": {},
   "outputs": [
    {
     "name": "stdout",
     "output_type": "stream",
     "text": [
      "The error message you'll see is:\n",
      "operands could not be broadcast together with shapes (4,) (2,) \n"
     ]
    }
   ],
   "source": [
    "#doesnt work if arrays have different size\n",
    "c = np.array([1, 2])\n",
    "try:\n",
    "    d = a + c\n",
    "except Exception as e:\n",
    "    print(\"The error message you'll see is:\")\n",
    "    print(e)"
   ]
  },
  {
   "cell_type": "markdown",
   "id": "215a97f3-f0f4-4129-8c9e-e8b622366957",
   "metadata": {},
   "source": [
    "## vector dot product "
   ]
  },
  {
   "cell_type": "code",
   "execution_count": 152,
   "id": "b490b683-1a40-408c-ab69-cc69ad425f6d",
   "metadata": {},
   "outputs": [],
   "source": [
    "def my_dot(a, b): \n",
    "    \"\"\"\n",
    "   Compute the dot product of two vectors\n",
    " \n",
    "    Args:\n",
    "      a (ndarray (n,)):  input vector \n",
    "      b (ndarray (n,)):  input vector with same dimension as a\n",
    "    \n",
    "    Returns:\n",
    "      x (scalar): \n",
    "    \"\"\"\n",
    "    x=0\n",
    "    for i in range(a.shape[0]):\n",
    "        x += a[i] * b[i]\n",
    "    return x"
   ]
  },
  {
   "cell_type": "code",
   "execution_count": 154,
   "id": "32e099ce-ea92-49c2-a468-044dc348011a",
   "metadata": {},
   "outputs": [
    {
     "name": "stdout",
     "output_type": "stream",
     "text": [
      "my_dot(a, b) = 24\n"
     ]
    }
   ],
   "source": [
    "# dot product of vector a, b using our method\n",
    "a = np.array([1, 2, 3, 4])\n",
    "b = np.array([-1, 4, 3, 2])\n",
    "print(f\"my_dot(a, b) = {my_dot(a, b)}\")"
   ]
  },
  {
   "cell_type": "code",
   "execution_count": 162,
   "id": "ca95c5ed-ac96-40ed-b6cb-e6a30e4548bb",
   "metadata": {},
   "outputs": [
    {
     "name": "stdout",
     "output_type": "stream",
     "text": [
      "NumPy 1-D np.dot(a, b) = 24\n",
      "NumPy 1-D np.dot(b, a) = 24\n"
     ]
    }
   ],
   "source": [
    "# dot product of vector a, b using np.dot() method\n",
    "a = np.array([1, 2, 3, 4])\n",
    "b = np.array([-1, 4, 3, 2])\n",
    "\n",
    "c = np.dot(a, b)\n",
    "print(f\"NumPy 1-D np.dot(a, b) = {c}\") \n",
    "\n",
    "c = np.dot(b, a)\n",
    "print(f\"NumPy 1-D np.dot(b, a) = {c}\")\n"
   ]
  },
  {
   "cell_type": "markdown",
   "id": "2d2e6c9c-44ab-452e-b45b-1f8fa70aedc2",
   "metadata": {},
   "source": [
    "## comparing speed"
   ]
  },
  {
   "cell_type": "code",
   "execution_count": 170,
   "id": "367f9b45-39d2-45b6-a459-6b86e225208b",
   "metadata": {},
   "outputs": [
    {
     "name": "stdout",
     "output_type": "stream",
     "text": [
      "np.dot(a, b) =  2501072.5817\n",
      "Vectorized version duration: 7.1239 ms \n",
      "\n",
      "my_dot(a, b) =  2501072.5817\n",
      "loop version duration: 3097.2209 ms \n"
     ]
    }
   ],
   "source": [
    "np.random.seed(1)\n",
    "a = np.random.rand(10000000)  # very large arrays\n",
    "b = np.random.rand(10000000)\n",
    "\n",
    "tic = time.time()  # capture start time\n",
    "c = np.dot(a, b)\n",
    "toc = time.time()  # capture end time\n",
    "\n",
    "print(f\"np.dot(a, b) =  {c:.4f}\")\n",
    "print(f\"Vectorized version duration: {1000*(toc-tic):.4f} ms \\n\")\n",
    "\n",
    "\n",
    "tic = time.time()  # capture start time\n",
    "c = my_dot(a,b)\n",
    "toc = time.time()  # capture end time\n",
    "\n",
    "print(f\"my_dot(a, b) =  {c:.4f}\")\n",
    "print(f\"loop version duration: {1000*(toc-tic):.4f} ms \")\n",
    "\n",
    "del(a);del(b)  #remove these big arrays from memory"
   ]
  },
  {
   "cell_type": "code",
   "execution_count": 176,
   "id": "e74a10b9-fde6-4cb6-8b1f-2b738f27406b",
   "metadata": {},
   "outputs": [
    {
     "name": "stdout",
     "output_type": "stream",
     "text": [
      "X[1] has shape (1,)\n",
      "w has shape (1,)\n",
      "c has shape ()\n"
     ]
    }
   ],
   "source": [
    "X = np.array([[1],[2],[3],[4]])    # 2d array \n",
    "w = np.array([2])\n",
    "c = np.dot(X[1], w)\n",
    "\n",
    "print(f\"X[1] has shape {X[1].shape}\")\n",
    "print(f\"w has shape {w.shape}\")\n",
    "print(f\"c has shape {c.shape}\")"
   ]
  },
  {
   "cell_type": "markdown",
   "id": "fb3ecf49-6526-4c47-88d3-2b7394397503",
   "metadata": {},
   "source": [
    "## matrices (2d array)"
   ]
  },
  {
   "cell_type": "code",
   "execution_count": 189,
   "id": "d36d65b4-f167-4f09-b084-7cebe112f8d4",
   "metadata": {},
   "outputs": [
    {
     "name": "stdout",
     "output_type": "stream",
     "text": [
      "a = [[0. 0. 0. 0. 0.]]\n",
      "a shape = (1, 5)\n",
      "\n",
      "a = [[0.]\n",
      " [0.]]\n",
      "a shape = (2, 1)\n",
      "\n",
      "a = [[0.53516563]]\n",
      "a shape = (1, 1)\n",
      "\n"
     ]
    }
   ],
   "source": [
    "a = np.zeros((1, 5))                                       \n",
    "print(f\"a = {a}\")\n",
    "print(f\"a shape = {a.shape}\\n\")                   \n",
    "\n",
    "a = np.zeros((2, 1))                                                                   \n",
    "print(f\"a = {a}\")\n",
    "print(f\"a shape = {a.shape}\\n\")\n",
    "\n",
    "a = np.random.random_sample((1, 1))  \n",
    "print(f\"a = {a}\")\n",
    "print(f\"a shape = {a.shape}\\n\")"
   ]
  },
  {
   "cell_type": "code",
   "execution_count": 193,
   "id": "2b592f65-39cc-4709-b6da-418be4d7dec0",
   "metadata": {},
   "outputs": [
    {
     "name": "stdout",
     "output_type": "stream",
     "text": [
      "a = [[5]\n",
      " [4]\n",
      " [3]]\n",
      "a shape = (3, 1)\n",
      "\n",
      "a = [[5]\n",
      " [4]\n",
      " [3]]\n",
      "a shape = (3, 1)\n",
      "\n"
     ]
    }
   ],
   "source": [
    "# NumPy routines which allocate memory and fill with user specified values\n",
    "a = np.array([[5], [4], [3]]);  \n",
    "print(f\"a = {a}\")\n",
    "print(f\"a shape = {a.shape}\\n\")\n",
    "\n",
    "a = np.array([[5],   # One can also\n",
    "              [4],   # separate values\n",
    "              [3]]); #into separate rows\n",
    "print(f\"a = {a}\")\n",
    "print(f\"a shape = {a.shape}\\n\")"
   ]
  },
  {
   "cell_type": "markdown",
   "id": "3e15b7b2-5650-404d-b28a-e330b7cf13a1",
   "metadata": {},
   "source": [
    "## indexing"
   ]
  },
  {
   "cell_type": "code",
   "execution_count": 216,
   "id": "d5962fbf-5994-4a73-817b-0d0fd20e9652",
   "metadata": {},
   "outputs": [
    {
     "name": "stdout",
     "output_type": "stream",
     "text": [
      "a = [[0 1]\n",
      " [2 3]\n",
      " [4 5]]\n",
      "a shape = (3, 2)\n",
      "\n",
      "\n",
      "a[2,0].shape:   (), a[2,0] = 4\n",
      "a[2].shape:   (2,), a[2]   = [4 5]\n"
     ]
    }
   ],
   "source": [
    "#vector indexing operations on matrices\n",
    "#reshape is a convenient way to create matrices\n",
    "#The -1 argument tells the routine to compute the number of rows given the size of the array and the number of columns.\n",
    "# here the argument 2 tells num of columns\n",
    "a = np.arange(6).reshape(-1, 2)   \n",
    "print(f\"a = {a}\")\n",
    "print(f\"a shape = {a.shape}\\n\")\n",
    "\n",
    "#access an element\n",
    "print(f\"\\na[2,0].shape:   {a[2, 0].shape}, a[2,0] = {a[2, 0]}\")\n",
    "\n",
    "#access a row\n",
    "print(f\"a[2].shape:   {a[2].shape}, a[2]   = {a[2]}\")"
   ]
  },
  {
   "cell_type": "markdown",
   "id": "8a53fe27-fbef-42e2-a460-2f8534547e07",
   "metadata": {},
   "source": [
    "## Slicing"
   ]
  },
  {
   "cell_type": "code",
   "execution_count": 233,
   "id": "4efaac9d-83c5-482f-a3e1-3d811bf6c310",
   "metadata": {},
   "outputs": [
    {
     "name": "stdout",
     "output_type": "stream",
     "text": [
      "a = \n",
      "[[ 0  1  2  3  4  5  6  7  8  9]\n",
      " [10 11 12 13 14 15 16 17 18 19]]\n",
      "\n",
      "a[0, 2:7:1] =  [2 3 4 5 6] ,  a[0, 2:7:1].shape = (5,) a 1-D array\n",
      "\n",
      "a[:, 2:7:1] = \n",
      " [[ 2  3  4  5  6]\n",
      " [12 13 14 15 16]] ,  a[:, 2:7:1].shape = (2, 5) a 2-D array\n",
      "\n",
      "a[:,:] = \n",
      " [[ 0  1  2  3  4  5  6  7  8  9]\n",
      " [10 11 12 13 14 15 16 17 18 19]] ,  a[:,:].shape = (2, 10)\n",
      "\n",
      "a[1,:] =  [10 11 12 13 14 15 16 17 18 19] ,  a[1,:].shape = (10,) a 1-D array\n",
      "\n",
      "a[1]   =  [10 11 12 13 14 15 16 17 18 19] ,  a[1].shape   = (10,) a 1-D array\n",
      "\n"
     ]
    }
   ],
   "source": [
    "#vector 2-D slicing operations\n",
    "a = np.arange(20).reshape(-1, 10)\n",
    "print(f\"a = \\n{a}\\n\")\n",
    "\n",
    "#access 5 consecutive elements (start:stop:step)\n",
    "print(\"a[0, 2:7:1] = \", a[0, 2:7:1], \",  a[0, 2:7:1].shape =\", a[0, 2:7:1].shape, \"a 1-D array\\n\")\n",
    "\n",
    "#access 5 consecutive elements (start:stop:step) in two rows\n",
    "print(\"a[:, 2:7:1] = \\n\", a[:, 2:7:1], \",  a[:, 2:7:1].shape =\", a[:, 2:7:1].shape, \"a 2-D array\\n\")\n",
    "\n",
    "# access all elements\n",
    "print(\"a[:,:] = \\n\", a[:,:], \",  a[:,:].shape =\", a[:,:].shape)\n",
    "\n",
    "# access all elements in one row (very common usage)\n",
    "print(\"\\na[1,:] = \", a[1,:], \",  a[1,:].shape =\", a[1,:].shape, \"a 1-D array\\n\")\n",
    "\n",
    "# same as\n",
    "print(\"a[1]   = \", a[1],   \",  a[1].shape   =\", a[1].shape, \"a 1-D array\\n\")\n"
   ]
  },
  {
   "cell_type": "code",
   "execution_count": null,
   "id": "462ff2f2-1293-4e46-8b99-848abfb1c936",
   "metadata": {},
   "outputs": [],
   "source": []
  }
 ],
 "metadata": {
  "kernelspec": {
   "display_name": "Python 3 (ipykernel)",
   "language": "python",
   "name": "python3"
  },
  "language_info": {
   "codemirror_mode": {
    "name": "ipython",
    "version": 3
   },
   "file_extension": ".py",
   "mimetype": "text/x-python",
   "name": "python",
   "nbconvert_exporter": "python",
   "pygments_lexer": "ipython3",
   "version": "3.12.4"
  }
 },
 "nbformat": 4,
 "nbformat_minor": 5
}
